{
 "cells": [
  {
   "cell_type": "code",
   "execution_count": 1,
   "id": "2d4ec548",
   "metadata": {},
   "outputs": [],
   "source": [
    "from pyspark.sql import SparkSession\n",
    "spark=SparkSession.builder.appName('dataframe').getOrCreate()"
   ]
  },
  {
   "cell_type": "markdown",
   "id": "599eee8d",
   "metadata": {},
   "source": [
    "Pyspark Dataframes\n",
    "\n",
    "Filter Operation\n",
    "\n",
    "&,|,==\n",
    "\n",
    "~"
   ]
  },
  {
   "cell_type": "code",
   "execution_count": 2,
   "id": "4204898a",
   "metadata": {},
   "outputs": [],
   "source": [
    "df_spark=spark.read.csv('test3.csv',header=True,inferSchema=True)"
   ]
  },
  {
   "cell_type": "code",
   "execution_count": 3,
   "id": "0f77851e",
   "metadata": {},
   "outputs": [
    {
     "name": "stdout",
     "output_type": "stream",
     "text": [
      "+---------+----+----------+------+\n",
      "|     name| age|experience|salary|\n",
      "+---------+----+----------+------+\n",
      "|  prakhar|  21|         3|900000|\n",
      "|sudhanshu|  33|         7| 45000|\n",
      "|    sunny|  19|         1| 70000|\n",
      "|     paul|  28|         2| 80000|\n",
      "|  shubham|  30|         7|850000|\n",
      "|   harsha|  32|      NULL|200000|\n",
      "|   mahesh|  53|        20|350000|\n",
      "|     NULL|NULL|      NULL|  NULL|\n",
      "|     NULL|  34|        10|  NULL|\n",
      "|     NULL|  36|      NULL|  NULL|\n",
      "+---------+----+----------+------+\n",
      "\n"
     ]
    }
   ],
   "source": [
    "df_spark.show()"
   ]
  },
  {
   "cell_type": "code",
   "execution_count": 4,
   "id": "05359c79",
   "metadata": {},
   "outputs": [],
   "source": [
    "##filter option\n"
   ]
  },
  {
   "cell_type": "code",
   "execution_count": 7,
   "id": "22a927e6",
   "metadata": {},
   "outputs": [
    {
     "name": "stdout",
     "output_type": "stream",
     "text": [
      "+---------+---+----------+------+\n",
      "|     name|age|experience|salary|\n",
      "+---------+---+----------+------+\n",
      "|sudhanshu| 33|         7| 45000|\n",
      "|    sunny| 19|         1| 70000|\n",
      "|     paul| 28|         2| 80000|\n",
      "+---------+---+----------+------+\n",
      "\n"
     ]
    }
   ],
   "source": [
    "df_spark.filter('salary<=90000').show()"
   ]
  },
  {
   "cell_type": "code",
   "execution_count": 8,
   "id": "1a66b3b6",
   "metadata": {},
   "outputs": [
    {
     "name": "stdout",
     "output_type": "stream",
     "text": [
      "+---------+---+\n",
      "|     name|age|\n",
      "+---------+---+\n",
      "|sudhanshu| 33|\n",
      "|    sunny| 19|\n",
      "|     paul| 28|\n",
      "+---------+---+\n",
      "\n"
     ]
    }
   ],
   "source": [
    "df_spark.filter('salary<=90000').select(['name','age']).show()"
   ]
  },
  {
   "cell_type": "code",
   "execution_count": 10,
   "id": "d55c9926",
   "metadata": {},
   "outputs": [
    {
     "name": "stdout",
     "output_type": "stream",
     "text": [
      "+-----+---+----------+------+\n",
      "| name|age|experience|salary|\n",
      "+-----+---+----------+------+\n",
      "|sunny| 19|         1| 70000|\n",
      "| paul| 28|         2| 80000|\n",
      "+-----+---+----------+------+\n",
      "\n"
     ]
    }
   ],
   "source": [
    "df_spark.filter((df_spark['salary']<=90000) & (df_spark['salary']>60000)).show()"
   ]
  },
  {
   "cell_type": "code",
   "execution_count": 11,
   "id": "518c1a37",
   "metadata": {},
   "outputs": [
    {
     "name": "stdout",
     "output_type": "stream",
     "text": [
      "+---------+---+----------+------+\n",
      "|     name|age|experience|salary|\n",
      "+---------+---+----------+------+\n",
      "|  prakhar| 21|         3|900000|\n",
      "|sudhanshu| 33|         7| 45000|\n",
      "|  shubham| 30|         7|850000|\n",
      "|   harsha| 32|      NULL|200000|\n",
      "|   mahesh| 53|        20|350000|\n",
      "+---------+---+----------+------+\n",
      "\n"
     ]
    }
   ],
   "source": [
    "df_spark.filter(~((df_spark['salary']<=90000) & (df_spark['salary']>60000))).show()"
   ]
  },
  {
   "cell_type": "code",
   "execution_count": null,
   "id": "6d476e01",
   "metadata": {},
   "outputs": [],
   "source": []
  }
 ],
 "metadata": {
  "kernelspec": {
   "display_name": "Python 3 (ipykernel)",
   "language": "python",
   "name": "python3"
  },
  "language_info": {
   "codemirror_mode": {
    "name": "ipython",
    "version": 3
   },
   "file_extension": ".py",
   "mimetype": "text/x-python",
   "name": "python",
   "nbconvert_exporter": "python",
   "pygments_lexer": "ipython3",
   "version": "3.11.5"
  }
 },
 "nbformat": 4,
 "nbformat_minor": 5
}
