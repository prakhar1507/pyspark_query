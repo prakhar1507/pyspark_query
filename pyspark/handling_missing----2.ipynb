{
 "cells": [
  {
   "cell_type": "markdown",
   "id": "162263b5",
   "metadata": {},
   "source": [
    "Pyspark Handling Missing Values\n",
    "\n",
    "Dropping Columns\n",
    "\n",
    "Dropping Rows\n",
    "\n",
    "Various Parameter In Dropping functionalities\n",
    "\n",
    "Handling Missing values by Mean, MEdian And Mode"
   ]
  },
  {
   "cell_type": "code",
   "execution_count": 1,
   "id": "e7e389e3",
   "metadata": {},
   "outputs": [],
   "source": [
    "from pyspark.sql import SparkSession\n",
    "spark=SparkSession.builder.appName('Practise').getOrCreate()"
   ]
  },
  {
   "cell_type": "code",
   "execution_count": 3,
   "id": "1113ff37",
   "metadata": {},
   "outputs": [],
   "source": [
    "df_spark=spark.read.csv('test3.csv',header=True,inferSchema=True)"
   ]
  },
  {
   "cell_type": "code",
   "execution_count": 4,
   "id": "cd986fb1",
   "metadata": {},
   "outputs": [
    {
     "name": "stdout",
     "output_type": "stream",
     "text": [
      "+---------+----+----------+------+\n",
      "|     name| age|experience|salary|\n",
      "+---------+----+----------+------+\n",
      "|  prakhar|  21|         3|900000|\n",
      "|sudhanshu|  33|         7| 45000|\n",
      "|    sunny|  19|         1| 70000|\n",
      "|     paul|  28|         2| 80000|\n",
      "|  shubham|  30|         7|850000|\n",
      "|   harsha|  32|      NULL|200000|\n",
      "|   mahesh|  53|        20|350000|\n",
      "|     NULL|NULL|      NULL|  NULL|\n",
      "|     NULL|  34|        10|  NULL|\n",
      "|     NULL|  36|      NULL|  NULL|\n",
      "+---------+----+----------+------+\n",
      "\n"
     ]
    }
   ],
   "source": [
    "df_spark.show()"
   ]
  },
  {
   "cell_type": "code",
   "execution_count": 5,
   "id": "9f7d1d07",
   "metadata": {},
   "outputs": [
    {
     "name": "stdout",
     "output_type": "stream",
     "text": [
      "+----+----------+------+\n",
      "| age|experience|salary|\n",
      "+----+----------+------+\n",
      "|  21|         3|900000|\n",
      "|  33|         7| 45000|\n",
      "|  19|         1| 70000|\n",
      "|  28|         2| 80000|\n",
      "|  30|         7|850000|\n",
      "|  32|      NULL|200000|\n",
      "|  53|        20|350000|\n",
      "|NULL|      NULL|  NULL|\n",
      "|  34|        10|  NULL|\n",
      "|  36|      NULL|  NULL|\n",
      "+----+----------+------+\n",
      "\n"
     ]
    }
   ],
   "source": [
    "#drop the columns\n",
    "df_spark.drop('Name').show()"
   ]
  },
  {
   "cell_type": "code",
   "execution_count": 6,
   "id": "ce840b3c",
   "metadata": {},
   "outputs": [
    {
     "data": {
      "text/plain": [
       "DataFrame[name: string, age: int, experience: int, salary: int]"
      ]
     },
     "execution_count": 6,
     "metadata": {},
     "output_type": "execute_result"
    }
   ],
   "source": [
    "df_spark.na.drop()"
   ]
  },
  {
   "cell_type": "code",
   "execution_count": 7,
   "id": "3047e117",
   "metadata": {},
   "outputs": [
    {
     "name": "stdout",
     "output_type": "stream",
     "text": [
      "+---------+---+----------+------+\n",
      "|     name|age|experience|salary|\n",
      "+---------+---+----------+------+\n",
      "|  prakhar| 21|         3|900000|\n",
      "|sudhanshu| 33|         7| 45000|\n",
      "|    sunny| 19|         1| 70000|\n",
      "|     paul| 28|         2| 80000|\n",
      "|  shubham| 30|         7|850000|\n",
      "|   mahesh| 53|        20|350000|\n",
      "+---------+---+----------+------+\n",
      "\n"
     ]
    }
   ],
   "source": [
    "df_spark.na.drop().show()"
   ]
  },
  {
   "cell_type": "code",
   "execution_count": 8,
   "id": "b8ccbea9",
   "metadata": {},
   "outputs": [
    {
     "name": "stdout",
     "output_type": "stream",
     "text": [
      "+---------+---+----------+------+\n",
      "|     name|age|experience|salary|\n",
      "+---------+---+----------+------+\n",
      "|  prakhar| 21|         3|900000|\n",
      "|sudhanshu| 33|         7| 45000|\n",
      "|    sunny| 19|         1| 70000|\n",
      "|     paul| 28|         2| 80000|\n",
      "|  shubham| 30|         7|850000|\n",
      "|   harsha| 32|      NULL|200000|\n",
      "|   mahesh| 53|        20|350000|\n",
      "|     NULL| 34|        10|  NULL|\n",
      "|     NULL| 36|      NULL|  NULL|\n",
      "+---------+---+----------+------+\n",
      "\n"
     ]
    }
   ],
   "source": [
    "###any=how ## drop thode records which are completely null\n",
    "df_spark.na.drop(how=\"all\").show()"
   ]
  },
  {
   "cell_type": "code",
   "execution_count": 9,
   "id": "d59718c2",
   "metadata": {},
   "outputs": [
    {
     "name": "stdout",
     "output_type": "stream",
     "text": [
      "+---------+---+----------+------+\n",
      "|     name|age|experience|salary|\n",
      "+---------+---+----------+------+\n",
      "|  prakhar| 21|         3|900000|\n",
      "|sudhanshu| 33|         7| 45000|\n",
      "|    sunny| 19|         1| 70000|\n",
      "|     paul| 28|         2| 80000|\n",
      "|  shubham| 30|         7|850000|\n",
      "|   mahesh| 53|        20|350000|\n",
      "+---------+---+----------+------+\n",
      "\n"
     ]
    }
   ],
   "source": [
    "df_spark.na.drop(how=\"any\").show()"
   ]
  },
  {
   "cell_type": "code",
   "execution_count": 10,
   "id": "8e2a77a2",
   "metadata": {},
   "outputs": [
    {
     "name": "stdout",
     "output_type": "stream",
     "text": [
      "+---------+---+----------+------+\n",
      "|     name|age|experience|salary|\n",
      "+---------+---+----------+------+\n",
      "|  prakhar| 21|         3|900000|\n",
      "|sudhanshu| 33|         7| 45000|\n",
      "|    sunny| 19|         1| 70000|\n",
      "|     paul| 28|         2| 80000|\n",
      "|  shubham| 30|         7|850000|\n",
      "|   harsha| 32|      NULL|200000|\n",
      "|   mahesh| 53|        20|350000|\n",
      "|     NULL| 34|        10|  NULL|\n",
      "+---------+---+----------+------+\n",
      "\n"
     ]
    }
   ],
   "source": [
    "##threshold  #atleast 2 not null values \n",
    "df_spark.na.drop(how='any',thresh=2).show()"
   ]
  },
  {
   "cell_type": "code",
   "execution_count": 11,
   "id": "12e307f6",
   "metadata": {},
   "outputs": [
    {
     "name": "stdout",
     "output_type": "stream",
     "text": [
      "+---------+---+----------+------+\n",
      "|     name|age|experience|salary|\n",
      "+---------+---+----------+------+\n",
      "|  prakhar| 21|         3|900000|\n",
      "|sudhanshu| 33|         7| 45000|\n",
      "|    sunny| 19|         1| 70000|\n",
      "|     paul| 28|         2| 80000|\n",
      "|  shubham| 30|         7|850000|\n",
      "|   harsha| 32|      NULL|200000|\n",
      "|   mahesh| 53|        20|350000|\n",
      "+---------+---+----------+------+\n",
      "\n"
     ]
    }
   ],
   "source": [
    "df_spark.na.drop(how='any',thresh=3).show()"
   ]
  },
  {
   "cell_type": "code",
   "execution_count": 12,
   "id": "c538ac0a",
   "metadata": {},
   "outputs": [
    {
     "name": "stdout",
     "output_type": "stream",
     "text": [
      "+---------+---+----------+------+\n",
      "|     name|age|experience|salary|\n",
      "+---------+---+----------+------+\n",
      "|  prakhar| 21|         3|900000|\n",
      "|sudhanshu| 33|         7| 45000|\n",
      "|    sunny| 19|         1| 70000|\n",
      "|     paul| 28|         2| 80000|\n",
      "|  shubham| 30|         7|850000|\n",
      "|   harsha| 32|      NULL|200000|\n",
      "|   mahesh| 53|        20|350000|\n",
      "|     NULL| 34|        10|  NULL|\n",
      "|     NULL| 36|      NULL|  NULL|\n",
      "+---------+---+----------+------+\n",
      "\n"
     ]
    }
   ],
   "source": [
    "##subset---delect the null values in specific column\n",
    "df_spark.na.drop(how='any',subset=['age']).show()"
   ]
  },
  {
   "cell_type": "code",
   "execution_count": 13,
   "id": "951d106b",
   "metadata": {},
   "outputs": [
    {
     "name": "stdout",
     "output_type": "stream",
     "text": [
      "+---------+---+----------+------+\n",
      "|     name|age|experience|salary|\n",
      "+---------+---+----------+------+\n",
      "|  prakhar| 21|         3|900000|\n",
      "|sudhanshu| 33|         7| 45000|\n",
      "|    sunny| 19|         1| 70000|\n",
      "|     paul| 28|         2| 80000|\n",
      "|  shubham| 30|         7|850000|\n",
      "|   mahesh| 53|        20|350000|\n",
      "|     NULL| 34|        10|  NULL|\n",
      "+---------+---+----------+------+\n",
      "\n"
     ]
    }
   ],
   "source": [
    "df_spark.na.drop(how='any',subset=['experience']).show()"
   ]
  },
  {
   "cell_type": "code",
   "execution_count": 14,
   "id": "823b423c",
   "metadata": {},
   "outputs": [
    {
     "name": "stdout",
     "output_type": "stream",
     "text": [
      "+--------------+----+----------+------+\n",
      "|          name| age|experience|salary|\n",
      "+--------------+----+----------+------+\n",
      "|       prakhar|  21|         3|900000|\n",
      "|     sudhanshu|  33|         7| 45000|\n",
      "|         sunny|  19|         1| 70000|\n",
      "|          paul|  28|         2| 80000|\n",
      "|       shubham|  30|         7|850000|\n",
      "|        harsha|  32|      NULL|200000|\n",
      "|        mahesh|  53|        20|350000|\n",
      "|missing values|NULL|      NULL|  NULL|\n",
      "|missing values|  34|        10|  NULL|\n",
      "|missing values|  36|      NULL|  NULL|\n",
      "+--------------+----+----------+------+\n",
      "\n"
     ]
    }
   ],
   "source": [
    "##filling the missing values\n",
    "df_spark.na.fill('missing values').show()"
   ]
  },
  {
   "cell_type": "code",
   "execution_count": 15,
   "id": "7b1217c9",
   "metadata": {},
   "outputs": [
    {
     "name": "stdout",
     "output_type": "stream",
     "text": [
      "+---------+----+----------+------+\n",
      "|     name| age|experience|salary|\n",
      "+---------+----+----------+------+\n",
      "|  prakhar|  21|         3|900000|\n",
      "|sudhanshu|  33|         7| 45000|\n",
      "|    sunny|  19|         1| 70000|\n",
      "|     paul|  28|         2| 80000|\n",
      "|  shubham|  30|         7|850000|\n",
      "|   harsha|  32|      NULL|200000|\n",
      "|   mahesh|  53|        20|350000|\n",
      "|     NULL|NULL|      NULL|  NULL|\n",
      "|     NULL|  34|        10|  NULL|\n",
      "|     NULL|  36|      NULL|  NULL|\n",
      "+---------+----+----------+------+\n",
      "\n"
     ]
    }
   ],
   "source": [
    "df_spark.na.fill('missing values','experience').show()"
   ]
  },
  {
   "cell_type": "code",
   "execution_count": 16,
   "id": "c58cefe1",
   "metadata": {},
   "outputs": [
    {
     "name": "stdout",
     "output_type": "stream",
     "text": [
      "+---------+----+----------+------+\n",
      "|     name| age|experience|salary|\n",
      "+---------+----+----------+------+\n",
      "|  prakhar|  21|         3|900000|\n",
      "|sudhanshu|  33|         7| 45000|\n",
      "|    sunny|  19|         1| 70000|\n",
      "|     paul|  28|         2| 80000|\n",
      "|  shubham|  30|         7|850000|\n",
      "|   harsha|  32|      NULL|200000|\n",
      "|   mahesh|  53|        20|350000|\n",
      "|     NULL|NULL|      NULL|  NULL|\n",
      "|     NULL|  34|        10|  NULL|\n",
      "|     NULL|  36|      NULL|  NULL|\n",
      "+---------+----+----------+------+\n",
      "\n"
     ]
    }
   ],
   "source": [
    "df_spark.show()"
   ]
  },
  {
   "cell_type": "code",
   "execution_count": 18,
   "id": "deb26591",
   "metadata": {},
   "outputs": [],
   "source": [
    "from pyspark.ml.feature import Imputer\n",
    "\n",
    "imputer=Imputer(\n",
    "inputCols=['age','experience','salary'],\n",
    "outputCols=[\"{}_imputed\".format(c) for c in['age','experience','salary']]\n",
    ").setStrategy(\"mean\")"
   ]
  },
  {
   "cell_type": "code",
   "execution_count": 20,
   "id": "17408390",
   "metadata": {},
   "outputs": [
    {
     "name": "stdout",
     "output_type": "stream",
     "text": [
      "+---------+----+----------+------+-----------+------------------+--------------+\n",
      "|     name| age|experience|salary|age_imputed|experience_imputed|salary_imputed|\n",
      "+---------+----+----------+------+-----------+------------------+--------------+\n",
      "|  prakhar|  21|         3|900000|         21|                 3|        900000|\n",
      "|sudhanshu|  33|         7| 45000|         33|                 7|         45000|\n",
      "|    sunny|  19|         1| 70000|         19|                 1|         70000|\n",
      "|     paul|  28|         2| 80000|         28|                 2|         80000|\n",
      "|  shubham|  30|         7|850000|         30|                 7|        850000|\n",
      "|   harsha|  32|      NULL|200000|         32|                 7|        200000|\n",
      "|   mahesh|  53|        20|350000|         53|                20|        350000|\n",
      "|     NULL|NULL|      NULL|  NULL|         31|                 7|        356428|\n",
      "|     NULL|  34|        10|  NULL|         34|                10|        356428|\n",
      "|     NULL|  36|      NULL|  NULL|         36|                 7|        356428|\n",
      "+---------+----+----------+------+-----------+------------------+--------------+\n",
      "\n"
     ]
    }
   ],
   "source": [
    "#add imputation cols to df\n",
    "imputer.fit(df_spark).transform(df_spark).show()"
   ]
  },
  {
   "cell_type": "code",
   "execution_count": null,
   "id": "bc72f67c",
   "metadata": {},
   "outputs": [],
   "source": []
  }
 ],
 "metadata": {
  "kernelspec": {
   "display_name": "Python 3 (ipykernel)",
   "language": "python",
   "name": "python3"
  },
  "language_info": {
   "codemirror_mode": {
    "name": "ipython",
    "version": 3
   },
   "file_extension": ".py",
   "mimetype": "text/x-python",
   "name": "python",
   "nbconvert_exporter": "python",
   "pygments_lexer": "ipython3",
   "version": "3.11.5"
  }
 },
 "nbformat": 4,
 "nbformat_minor": 5
}
